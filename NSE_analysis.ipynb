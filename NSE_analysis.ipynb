{
 "cells": [
  {
   "cell_type": "code",
   "execution_count": 56,
   "id": "19dc56ac-1a5f-410a-b82e-156ceff2ef58",
   "metadata": {},
   "outputs": [],
   "source": [
    "import numpy as np\n",
    "import pandas as pd\n",
    "\n",
    "from os import listdir\n",
    "from os.path import isfile, join\n",
    "\n",
    "import matplotlib.pyplot as plt\n",
    "%matplotlib inline"
   ]
  },
  {
   "cell_type": "code",
   "execution_count": 6,
   "id": "310802fe-41b3-4f8d-b73d-1f042b59a839",
   "metadata": {},
   "outputs": [
    {
     "name": "stdout",
     "output_type": "stream",
     "text": [
      "/Users/terminator/Desktop/Trading/NSE Analysis\n"
     ]
    }
   ],
   "source": [
    "!pwd"
   ]
  },
  {
   "cell_type": "code",
   "execution_count": 12,
   "id": "aebe377a-b23d-44a9-9169-2f4b22ee8e76",
   "metadata": {},
   "outputs": [],
   "source": [
    "path_2021 = \"Intraday 1 Min Data/Intraday 1 Min Data/2021/\""
   ]
  },
  {
   "cell_type": "code",
   "execution_count": 13,
   "id": "077697c7-e819-4060-890d-af9ab75eaff2",
   "metadata": {},
   "outputs": [
    {
     "data": {
      "text/plain": [
       "['2021 JUNE NIFTY.txt',\n",
       " '2021 FEB NIFTY.txt',\n",
       " '2021 SEP NIFTY.txt',\n",
       " '2021 OCT NIFTY.txt',\n",
       " '2021 JAN NIFTY.txt',\n",
       " '2021 AUG NIFTY.txt',\n",
       " '2021 APR NIFTY.txt',\n",
       " '2021 JULY NIFTY.txt',\n",
       " '2021 MAR NIFTY.txt',\n",
       " '2021 MAY NIFTY.txt']"
      ]
     },
     "execution_count": 13,
     "metadata": {},
     "output_type": "execute_result"
    }
   ],
   "source": [
    "onlyfiles = [f for f in listdir(path_2021) if (isfile(join(path_2021, f)) & (\"BNF\" not in f))]\n",
    "onlyfiles"
   ]
  },
  {
   "cell_type": "code",
   "execution_count": 17,
   "id": "652b759e-ffff-4252-b830-6d73949cb9b2",
   "metadata": {},
   "outputs": [],
   "source": [
    "data_list = []\n",
    "for files in onlyfiles:\n",
    "    data = pd.read_csv(path_2021+files, sep=\",\", header=None)\n",
    "    data_list.append(data)"
   ]
  },
  {
   "cell_type": "code",
   "execution_count": 45,
   "id": "b934b698-4559-493c-82c2-9470bca794bc",
   "metadata": {},
   "outputs": [],
   "source": [
    "nifty_2021 = pd.concat(data_list)"
   ]
  },
  {
   "cell_type": "code",
   "execution_count": 46,
   "id": "b805e43b-87ff-4a91-bd0d-71e7c0cd77b3",
   "metadata": {},
   "outputs": [
    {
     "data": {
      "text/html": [
       "<div>\n",
       "<style scoped>\n",
       "    .dataframe tbody tr th:only-of-type {\n",
       "        vertical-align: middle;\n",
       "    }\n",
       "\n",
       "    .dataframe tbody tr th {\n",
       "        vertical-align: top;\n",
       "    }\n",
       "\n",
       "    .dataframe thead th {\n",
       "        text-align: right;\n",
       "    }\n",
       "</style>\n",
       "<table border=\"1\" class=\"dataframe\">\n",
       "  <thead>\n",
       "    <tr style=\"text-align: right;\">\n",
       "      <th></th>\n",
       "      <th>0</th>\n",
       "      <th>1</th>\n",
       "      <th>2</th>\n",
       "      <th>3</th>\n",
       "      <th>4</th>\n",
       "      <th>5</th>\n",
       "      <th>6</th>\n",
       "      <th>7</th>\n",
       "      <th>8</th>\n",
       "    </tr>\n",
       "  </thead>\n",
       "  <tbody>\n",
       "    <tr>\n",
       "      <th>0</th>\n",
       "      <td>NIFTY</td>\n",
       "      <td>20210601</td>\n",
       "      <td>09:08</td>\n",
       "      <td>15629.65</td>\n",
       "      <td>15629.65</td>\n",
       "      <td>15629.65</td>\n",
       "      <td>15629.65</td>\n",
       "      <td>0</td>\n",
       "      <td>0</td>\n",
       "    </tr>\n",
       "    <tr>\n",
       "      <th>1</th>\n",
       "      <td>NIFTY</td>\n",
       "      <td>20210601</td>\n",
       "      <td>09:16</td>\n",
       "      <td>15630.30</td>\n",
       "      <td>15630.30</td>\n",
       "      <td>15594.00</td>\n",
       "      <td>15614.20</td>\n",
       "      <td>0</td>\n",
       "      <td>0</td>\n",
       "    </tr>\n",
       "    <tr>\n",
       "      <th>2</th>\n",
       "      <td>NIFTY</td>\n",
       "      <td>20210601</td>\n",
       "      <td>09:17</td>\n",
       "      <td>15613.55</td>\n",
       "      <td>15618.20</td>\n",
       "      <td>15607.60</td>\n",
       "      <td>15607.60</td>\n",
       "      <td>0</td>\n",
       "      <td>0</td>\n",
       "    </tr>\n",
       "    <tr>\n",
       "      <th>3</th>\n",
       "      <td>NIFTY</td>\n",
       "      <td>20210601</td>\n",
       "      <td>09:18</td>\n",
       "      <td>15609.45</td>\n",
       "      <td>15611.10</td>\n",
       "      <td>15591.90</td>\n",
       "      <td>15599.85</td>\n",
       "      <td>0</td>\n",
       "      <td>0</td>\n",
       "    </tr>\n",
       "    <tr>\n",
       "      <th>4</th>\n",
       "      <td>NIFTY</td>\n",
       "      <td>20210601</td>\n",
       "      <td>09:19</td>\n",
       "      <td>15598.75</td>\n",
       "      <td>15610.05</td>\n",
       "      <td>15588.65</td>\n",
       "      <td>15607.05</td>\n",
       "      <td>0</td>\n",
       "      <td>0</td>\n",
       "    </tr>\n",
       "  </tbody>\n",
       "</table>\n",
       "</div>"
      ],
      "text/plain": [
       "       0         1      2         3         4         5         6  7  8\n",
       "0  NIFTY  20210601  09:08  15629.65  15629.65  15629.65  15629.65  0  0\n",
       "1  NIFTY  20210601  09:16  15630.30  15630.30  15594.00  15614.20  0  0\n",
       "2  NIFTY  20210601  09:17  15613.55  15618.20  15607.60  15607.60  0  0\n",
       "3  NIFTY  20210601  09:18  15609.45  15611.10  15591.90  15599.85  0  0\n",
       "4  NIFTY  20210601  09:19  15598.75  15610.05  15588.65  15607.05  0  0"
      ]
     },
     "execution_count": 46,
     "metadata": {},
     "output_type": "execute_result"
    }
   ],
   "source": [
    "nifty_2021.head()"
   ]
  },
  {
   "cell_type": "code",
   "execution_count": 47,
   "id": "423a7300-5aba-4d58-a60a-991daa06697a",
   "metadata": {
    "collapsed": true,
    "jupyter": {
     "outputs_hidden": true
    },
    "tags": []
   },
   "outputs": [
    {
     "data": {
      "text/html": [
       "<div>\n",
       "<style scoped>\n",
       "    .dataframe tbody tr th:only-of-type {\n",
       "        vertical-align: middle;\n",
       "    }\n",
       "\n",
       "    .dataframe tbody tr th {\n",
       "        vertical-align: top;\n",
       "    }\n",
       "\n",
       "    .dataframe thead th {\n",
       "        text-align: right;\n",
       "    }\n",
       "</style>\n",
       "<table border=\"1\" class=\"dataframe\">\n",
       "  <thead>\n",
       "    <tr style=\"text-align: right;\">\n",
       "      <th></th>\n",
       "      <th>Asset</th>\n",
       "      <th>Date</th>\n",
       "      <th>Time</th>\n",
       "      <th>Open</th>\n",
       "      <th>High</th>\n",
       "      <th>Low</th>\n",
       "      <th>Close</th>\n",
       "      <th>Zero_1</th>\n",
       "      <th>Zero_2</th>\n",
       "    </tr>\n",
       "  </thead>\n",
       "  <tbody>\n",
       "    <tr>\n",
       "      <th>0</th>\n",
       "      <td>NIFTY</td>\n",
       "      <td>20210601</td>\n",
       "      <td>09:08</td>\n",
       "      <td>15629.65</td>\n",
       "      <td>15629.65</td>\n",
       "      <td>15629.65</td>\n",
       "      <td>15629.65</td>\n",
       "      <td>0</td>\n",
       "      <td>0</td>\n",
       "    </tr>\n",
       "    <tr>\n",
       "      <th>1</th>\n",
       "      <td>NIFTY</td>\n",
       "      <td>20210601</td>\n",
       "      <td>09:16</td>\n",
       "      <td>15630.30</td>\n",
       "      <td>15630.30</td>\n",
       "      <td>15594.00</td>\n",
       "      <td>15614.20</td>\n",
       "      <td>0</td>\n",
       "      <td>0</td>\n",
       "    </tr>\n",
       "    <tr>\n",
       "      <th>2</th>\n",
       "      <td>NIFTY</td>\n",
       "      <td>20210601</td>\n",
       "      <td>09:17</td>\n",
       "      <td>15613.55</td>\n",
       "      <td>15618.20</td>\n",
       "      <td>15607.60</td>\n",
       "      <td>15607.60</td>\n",
       "      <td>0</td>\n",
       "      <td>0</td>\n",
       "    </tr>\n",
       "    <tr>\n",
       "      <th>3</th>\n",
       "      <td>NIFTY</td>\n",
       "      <td>20210601</td>\n",
       "      <td>09:18</td>\n",
       "      <td>15609.45</td>\n",
       "      <td>15611.10</td>\n",
       "      <td>15591.90</td>\n",
       "      <td>15599.85</td>\n",
       "      <td>0</td>\n",
       "      <td>0</td>\n",
       "    </tr>\n",
       "    <tr>\n",
       "      <th>4</th>\n",
       "      <td>NIFTY</td>\n",
       "      <td>20210601</td>\n",
       "      <td>09:19</td>\n",
       "      <td>15598.75</td>\n",
       "      <td>15610.05</td>\n",
       "      <td>15588.65</td>\n",
       "      <td>15607.05</td>\n",
       "      <td>0</td>\n",
       "      <td>0</td>\n",
       "    </tr>\n",
       "    <tr>\n",
       "      <th>...</th>\n",
       "      <td>...</td>\n",
       "      <td>...</td>\n",
       "      <td>...</td>\n",
       "      <td>...</td>\n",
       "      <td>...</td>\n",
       "      <td>...</td>\n",
       "      <td>...</td>\n",
       "      <td>...</td>\n",
       "      <td>...</td>\n",
       "    </tr>\n",
       "    <tr>\n",
       "      <th>7551</th>\n",
       "      <td>NIFTY</td>\n",
       "      <td>20210531</td>\n",
       "      <td>15:27</td>\n",
       "      <td>15586.65</td>\n",
       "      <td>15589.50</td>\n",
       "      <td>15585.05</td>\n",
       "      <td>15587.15</td>\n",
       "      <td>0</td>\n",
       "      <td>0</td>\n",
       "    </tr>\n",
       "    <tr>\n",
       "      <th>7552</th>\n",
       "      <td>NIFTY</td>\n",
       "      <td>20210531</td>\n",
       "      <td>15:28</td>\n",
       "      <td>15587.10</td>\n",
       "      <td>15587.65</td>\n",
       "      <td>15583.75</td>\n",
       "      <td>15583.90</td>\n",
       "      <td>0</td>\n",
       "      <td>0</td>\n",
       "    </tr>\n",
       "    <tr>\n",
       "      <th>7553</th>\n",
       "      <td>NIFTY</td>\n",
       "      <td>20210531</td>\n",
       "      <td>15:29</td>\n",
       "      <td>15584.15</td>\n",
       "      <td>15585.40</td>\n",
       "      <td>15577.20</td>\n",
       "      <td>15577.20</td>\n",
       "      <td>0</td>\n",
       "      <td>0</td>\n",
       "    </tr>\n",
       "    <tr>\n",
       "      <th>7554</th>\n",
       "      <td>NIFTY</td>\n",
       "      <td>20210531</td>\n",
       "      <td>15:30</td>\n",
       "      <td>15579.15</td>\n",
       "      <td>15580.20</td>\n",
       "      <td>15575.40</td>\n",
       "      <td>15576.00</td>\n",
       "      <td>0</td>\n",
       "      <td>0</td>\n",
       "    </tr>\n",
       "    <tr>\n",
       "      <th>7555</th>\n",
       "      <td>NIFTY</td>\n",
       "      <td>20210531</td>\n",
       "      <td>15:31</td>\n",
       "      <td>15576.35</td>\n",
       "      <td>15582.80</td>\n",
       "      <td>15576.35</td>\n",
       "      <td>15582.80</td>\n",
       "      <td>0</td>\n",
       "      <td>0</td>\n",
       "    </tr>\n",
       "  </tbody>\n",
       "</table>\n",
       "<p>77181 rows × 9 columns</p>\n",
       "</div>"
      ],
      "text/plain": [
       "      Asset      Date   Time      Open      High       Low     Close  Zero_1  \\\n",
       "0     NIFTY  20210601  09:08  15629.65  15629.65  15629.65  15629.65       0   \n",
       "1     NIFTY  20210601  09:16  15630.30  15630.30  15594.00  15614.20       0   \n",
       "2     NIFTY  20210601  09:17  15613.55  15618.20  15607.60  15607.60       0   \n",
       "3     NIFTY  20210601  09:18  15609.45  15611.10  15591.90  15599.85       0   \n",
       "4     NIFTY  20210601  09:19  15598.75  15610.05  15588.65  15607.05       0   \n",
       "...     ...       ...    ...       ...       ...       ...       ...     ...   \n",
       "7551  NIFTY  20210531  15:27  15586.65  15589.50  15585.05  15587.15       0   \n",
       "7552  NIFTY  20210531  15:28  15587.10  15587.65  15583.75  15583.90       0   \n",
       "7553  NIFTY  20210531  15:29  15584.15  15585.40  15577.20  15577.20       0   \n",
       "7554  NIFTY  20210531  15:30  15579.15  15580.20  15575.40  15576.00       0   \n",
       "7555  NIFTY  20210531  15:31  15576.35  15582.80  15576.35  15582.80       0   \n",
       "\n",
       "      Zero_2  \n",
       "0          0  \n",
       "1          0  \n",
       "2          0  \n",
       "3          0  \n",
       "4          0  \n",
       "...      ...  \n",
       "7551       0  \n",
       "7552       0  \n",
       "7553       0  \n",
       "7554       0  \n",
       "7555       0  \n",
       "\n",
       "[77181 rows x 9 columns]"
      ]
     },
     "execution_count": 47,
     "metadata": {},
     "output_type": "execute_result"
    }
   ],
   "source": [
    "nifty_2021.columns = ['Asset', 'Date', 'Time', 'Open', 'High', 'Low', 'Close', 'Zero_1', 'Zero_2']\n",
    "nifty_2021"
   ]
  },
  {
   "cell_type": "code",
   "execution_count": 50,
   "id": "7407eefa-aa4f-475d-9130-caac84818c9a",
   "metadata": {
    "tags": []
   },
   "outputs": [],
   "source": [
    "nifty_2021[\"Instant\"] = pd.to_datetime(nifty_2021.iloc[:, 1].astype('str')+' '+nifty_2021.iloc[:, 2].astype('str'))\n",
    "nifty_2021 = nifty_2021.sort_values(by = 'Instant')"
   ]
  },
  {
   "cell_type": "code",
   "execution_count": 52,
   "id": "2686e452-07b8-4334-b1ba-ee77ce0b86cb",
   "metadata": {},
   "outputs": [],
   "source": [
    "#nifty_2021.drop('Date', axis = 1, inplace = True)\n",
    "nif50_2021 = nifty_2021[['Asset', 'Instant', 'Open', 'High', 'Low', 'Close']]"
   ]
  },
  {
   "cell_type": "code",
   "execution_count": 54,
   "id": "e1e18882-69e0-480e-a0e1-7d0d3041a1e0",
   "metadata": {
    "collapsed": true,
    "jupyter": {
     "outputs_hidden": true
    },
    "tags": []
   },
   "outputs": [
    {
     "name": "stderr",
     "output_type": "stream",
     "text": [
      "/Users/terminator/opt/anaconda3/lib/python3.7/site-packages/ipykernel_launcher.py:1: SettingWithCopyWarning: \n",
      "A value is trying to be set on a copy of a slice from a DataFrame.\n",
      "Try using .loc[row_indexer,col_indexer] = value instead\n",
      "\n",
      "See the caveats in the documentation: https://pandas.pydata.org/pandas-docs/stable/user_guide/indexing.html#returning-a-view-versus-a-copy\n",
      "  \"\"\"Entry point for launching an IPython kernel.\n"
     ]
    }
   ],
   "source": [
    "nif50_2021[\"Open_Lag_1min\"] = nif50_2021[\"Open\"] - nif50_2021[\"Open\"].shift(periods=1)"
   ]
  },
  {
   "cell_type": "code",
   "execution_count": 59,
   "id": "bae08279-3fa8-441c-a057-dbab347434c6",
   "metadata": {},
   "outputs": [
    {
     "data": {
      "text/plain": [
       "<AxesSubplot:>"
      ]
     },
     "execution_count": 59,
     "metadata": {},
     "output_type": "execute_result"
    },
    {
     "data": {
      "image/png": "[encoded data removed]",
      "text/plain": [
       "<Figure size 432x288 with 1 Axes>"
      ]
     },
     "metadata": {
      "needs_background": "light"
     },
     "output_type": "display_data"
    }
   ],
   "source": [
    "#nif50_2021[\"Open_Lag_1min\"] = nif50_2021[\"Open_Lag_1min\"].fillna(0)\n",
    "nif50_2021[\"Open_Lag_1min\"].hist(bins = 100)"
   ]
  },
  {
   "cell_type": "code",
   "execution_count": null,
   "id": "998878a8-552d-4b56-adb8-0dface022ea6",
   "metadata": {},
   "outputs": [],
   "source": []
  },
  {
   "cell_type": "code",
   "execution_count": 34,
   "id": "7ae00530-8c2e-41c4-b4cd-71ecd7e66dd9",
   "metadata": {},
   "outputs": [
    {
     "data": {
      "text/plain": [
       "0    2.579265e+07\n",
       "Name: time, dtype: float64"
      ]
     },
     "execution_count": 34,
     "metadata": {},
     "output_type": "execute_result"
    }
   ],
   "source": [
    "import pandas as pd\n",
    "df = pd.DataFrame({'time': [pd.to_datetime('2019-01-15 13:25:43')]})\n",
    "df_unix_sec = pd.to_datetime(df['time']).astype(int)/(60*10**9)\n",
    "df_unix_sec"
   ]
  },
  {
   "cell_type": "code",
   "execution_count": 60,
   "id": "52f1df2e-5f26-4464-9bae-225f8b1b9442",
   "metadata": {},
   "outputs": [],
   "source": [
    "nifty_2021_daily = nifty_2021.groupby('Date').agg({'Open': 'first', 'Close': 'last', 'High': 'max', 'Low': 'min', })"
   ]
  },
  {
   "cell_type": "code",
   "execution_count": 61,
   "id": "946680cf-1800-47ac-a895-7cec672d141a",
   "metadata": {},
   "outputs": [
    {
     "data": {
      "text/html": [
       "<div>\n",
       "<style scoped>\n",
       "    .dataframe tbody tr th:only-of-type {\n",
       "        vertical-align: middle;\n",
       "    }\n",
       "\n",
       "    .dataframe tbody tr th {\n",
       "        vertical-align: top;\n",
       "    }\n",
       "\n",
       "    .dataframe thead th {\n",
       "        text-align: right;\n",
       "    }\n",
       "</style>\n",
       "<table border=\"1\" class=\"dataframe\">\n",
       "  <thead>\n",
       "    <tr style=\"text-align: right;\">\n",
       "      <th></th>\n",
       "      <th>Open</th>\n",
       "      <th>Close</th>\n",
       "      <th>High</th>\n",
       "      <th>Low</th>\n",
       "    </tr>\n",
       "    <tr>\n",
       "      <th>Date</th>\n",
       "      <th></th>\n",
       "      <th></th>\n",
       "      <th></th>\n",
       "      <th></th>\n",
       "    </tr>\n",
       "  </thead>\n",
       "  <tbody>\n",
       "    <tr>\n",
       "      <th>20210101</th>\n",
       "      <td>13996.10</td>\n",
       "      <td>14018.50</td>\n",
       "      <td>14049.85</td>\n",
       "      <td>13991.35</td>\n",
       "    </tr>\n",
       "    <tr>\n",
       "      <th>20210104</th>\n",
       "      <td>14104.35</td>\n",
       "      <td>14132.90</td>\n",
       "      <td>14147.95</td>\n",
       "      <td>13953.75</td>\n",
       "    </tr>\n",
       "    <tr>\n",
       "      <th>20210105</th>\n",
       "      <td>14075.15</td>\n",
       "      <td>14199.50</td>\n",
       "      <td>14215.60</td>\n",
       "      <td>14048.15</td>\n",
       "    </tr>\n",
       "    <tr>\n",
       "      <th>20210106</th>\n",
       "      <td>14240.95</td>\n",
       "      <td>14146.25</td>\n",
       "      <td>14244.15</td>\n",
       "      <td>14039.90</td>\n",
       "    </tr>\n",
       "    <tr>\n",
       "      <th>20210107</th>\n",
       "      <td>14253.75</td>\n",
       "      <td>14137.35</td>\n",
       "      <td>14256.25</td>\n",
       "      <td>14123.10</td>\n",
       "    </tr>\n",
       "    <tr>\n",
       "      <th>...</th>\n",
       "      <td>...</td>\n",
       "      <td>...</td>\n",
       "      <td>...</td>\n",
       "      <td>...</td>\n",
       "    </tr>\n",
       "    <tr>\n",
       "      <th>20211025</th>\n",
       "      <td>18229.50</td>\n",
       "      <td>18125.40</td>\n",
       "      <td>18241.40</td>\n",
       "      <td>17968.50</td>\n",
       "    </tr>\n",
       "    <tr>\n",
       "      <th>20211026</th>\n",
       "      <td>18154.50</td>\n",
       "      <td>18268.40</td>\n",
       "      <td>18310.45</td>\n",
       "      <td>18099.30</td>\n",
       "    </tr>\n",
       "    <tr>\n",
       "      <th>20211027</th>\n",
       "      <td>18295.85</td>\n",
       "      <td>18210.95</td>\n",
       "      <td>18342.05</td>\n",
       "      <td>18167.90</td>\n",
       "    </tr>\n",
       "    <tr>\n",
       "      <th>20211028</th>\n",
       "      <td>18187.65</td>\n",
       "      <td>17857.25</td>\n",
       "      <td>18190.70</td>\n",
       "      <td>17799.45</td>\n",
       "    </tr>\n",
       "    <tr>\n",
       "      <th>20211029</th>\n",
       "      <td>17833.05</td>\n",
       "      <td>17671.65</td>\n",
       "      <td>17915.85</td>\n",
       "      <td>17613.10</td>\n",
       "    </tr>\n",
       "  </tbody>\n",
       "</table>\n",
       "<p>205 rows × 4 columns</p>\n",
       "</div>"
      ],
      "text/plain": [
       "              Open     Close      High       Low\n",
       "Date                                            \n",
       "20210101  13996.10  14018.50  14049.85  13991.35\n",
       "20210104  14104.35  14132.90  14147.95  13953.75\n",
       "20210105  14075.15  14199.50  14215.60  14048.15\n",
       "20210106  14240.95  14146.25  14244.15  14039.90\n",
       "20210107  14253.75  14137.35  14256.25  14123.10\n",
       "...            ...       ...       ...       ...\n",
       "20211025  18229.50  18125.40  18241.40  17968.50\n",
       "20211026  18154.50  18268.40  18310.45  18099.30\n",
       "20211027  18295.85  18210.95  18342.05  18167.90\n",
       "20211028  18187.65  17857.25  18190.70  17799.45\n",
       "20211029  17833.05  17671.65  17915.85  17613.10\n",
       "\n",
       "[205 rows x 4 columns]"
      ]
     },
     "execution_count": 61,
     "metadata": {},
     "output_type": "execute_result"
    }
   ],
   "source": [
    "nifty_2021_daily"
   ]
  },
  {
   "cell_type": "code",
   "execution_count": 64,
   "id": "7ee1d53c-7a93-4fbf-8466-a004647b3f71",
   "metadata": {},
   "outputs": [
    {
     "data": {
      "text/plain": [
       "<AxesSubplot:>"
      ]
     },
     "execution_count": 64,
     "metadata": {},
     "output_type": "execute_result"
    },
    {
     "data": {
      "image/png": "[encoded data removed]",
      "text/plain": [
       "<Figure size 432x288 with 1 Axes>"
      ]
     },
     "metadata": {
      "needs_background": "light"
     },
     "output_type": "display_data"
    }
   ],
   "source": [
    "nifty_2021_daily_open_diff = nifty_2021_daily['Open'] - nifty_2021_daily['Close'].shift(1)\n",
    "nifty_2021_daily_open_diff.hist(bins = 100)"
   ]
  },
  {
   "cell_type": "code",
   "execution_count": 67,
   "id": "35becd42-ab85-4b21-b785-59636a9af83e",
   "metadata": {},
   "outputs": [
    {
     "data": {
      "text/plain": [
       "Date\n",
       "20210128   -157.10\n",
       "20210226   -208.75\n",
       "20210304   -218.85\n",
       "20210305   -102.80\n",
       "20210324   -102.30\n",
       "20210412   -190.20\n",
       "20210419   -311.25\n",
       "20210430   -147.55\n",
       "20210503   -150.05\n",
       "20210511   -152.65\n",
       "20210617   -119.25\n",
       "20210621   -157.50\n",
       "20210719   -168.90\n",
       "20210820   -186.35\n",
       "20210920   -141.30\n",
       "dtype: float64"
      ]
     },
     "execution_count": 67,
     "metadata": {},
     "output_type": "execute_result"
    }
   ],
   "source": [
    "nifty_2021_daily_open_diff[nifty_2021_daily_open_diff<-100]"
   ]
  },
  {
   "cell_type": "code",
   "execution_count": null,
   "id": "eb6f044d-1a6d-40a2-98e0-8c188e70f9fc",
   "metadata": {},
   "outputs": [],
   "source": []
  }
 ],
 "metadata": {
  "kernelspec": {
   "display_name": "Python 3",
   "language": "python",
   "name": "python3"
  },
  "language_info": {
   "codemirror_mode": {
    "name": "ipython",
    "version": 3
   },
   "file_extension": ".py",
   "mimetype": "text/x-python",
   "name": "python",
   "nbconvert_exporter": "python",
   "pygments_lexer": "ipython3",
   "version": "3.7.10"
  }
 },
 "nbformat": 4,
 "nbformat_minor": 5
}
